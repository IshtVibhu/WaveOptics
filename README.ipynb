{
 "cells": [
  {
   "cell_type": "markdown",
   "metadata": {},
   "source": [
    "# Notebooks on Wave Optics, Technische Natuurkunde Universiteit Twente.\n",
    "\n",
    "Here you find a set of Jupyter Notebooks for optics simulations using the LightPipes optical toolbox. You can open the notebook, read some introductions about the topic and perform exercises/simulations. The simulations are mainly used as an introduction to real optical experiments in the lab, but may also help in getting a better understanding of some key aspects in waveoptics.\n",
    "\n",
    "The following notebooks are available:\n",
    "\n",
    "### Notebooks used for preparing for the introductory practicals\n",
    "\n",
    "1. [Newton_Rings_2019.ipynb](./Newton_Rings_2019.ipynb) **Newton rings** can be observed when light falls on a convex lens laying on a flat glass plate. By analysing the ring radii the radius of the convex surface of the lens can be determined.\n",
    "2. [Fabry_Perot_2019.ipynb](./Fabry_Perot_2019.ipynb) The **Fabry Perot** interferometer is studied in this assignment. By changing the distance between the mirrors the difference between two wavelengths can be determined.\n",
    "3. [Michelson_Interferometer_2019.ipynb](./Michelson_Interferometer_2019.ipynb) A **Michelson Interferometer** is simulated. The student studies the influence of the pathlength difference between the arms of the interferometer on the observed interference pattern.\n",
    "4. [Fraunhofer_Diffraction_N_Slits_2019.ipynb](./Fraunhofer_Diffraction_N_Slits_2019.ipynb) **Fraunhofer diffraction** patterns are produced by illuminating a screen with one or more slits. The dependece of the far field diffraction pattern on the slit width, slit distances and the number of slits is investigated.\n",
    "5. [Diffraction_Single_Slit_2019.ipynb](./Diffraction_Single_Slit_2019.ipynb) A **Diffraction pattern** is produced by illuminating a single slit with a monochromatic, plane wave. The student investigates the transition from Fraunhofer diffraction to Fresnel diffraction.\n",
    "\n",
    "### Notebooks used in the final practicals\n",
    "\n",
    "1. [HeNeLaser_2019.ipynb](./HeNeLaser_2019.ipynb) This notebook investigates the stability criteria of a **HeNe Laser** and evaluates the TEM00 beamprofile in the cavity. Parameters that can be changed are the radii of the mirrors and the distance between the mirrors.\n",
    "2. --\n",
    "\n",
    "\n",
    "### Miscalleneous notebooks\n",
    "\n",
    "6. [spherical_wavefront.ipynb](./spherical_wavefront.ipynb) A **spherical wavefront** is produced by illuminating a small hole with a monochromatic, plane wave. The student investigates the inverse quadratic law by measuring, with the mouse, the intensity at the centre of the beam at several distances from the hole.\n",
    "7. [ReflectRefract.ipynb](./ReflectRefract.ipynb) **Internal reflection and refraction** is studied. A linear polarized laser beam enters a glass and is internally reflected and refracted. The polarization and the angle of incidence can be varied.\n",
    "8. [TwoHoles.ipynb](./TwoHoles.ipynb) **Young's experiment**. A plane monochromatic wave illuminates a screen with two small holes. The resulting interference pattern behind the screen can be studied.\n",
    "9. [FresnelDiffraction.ipynb](./FresnelDiffraction.ipynb) **Fresnel diffraction** from a round hole is studied by measuring on-axis minimum- and maximum intensities as a function of the hole diameter and distance from the hole."
   ]
  },
  {
   "cell_type": "code",
   "execution_count": null,
   "metadata": {},
   "outputs": [],
   "source": []
  }
 ],
 "metadata": {
  "kernelspec": {
   "display_name": "Python 3",
   "language": "python",
   "name": "python3"
  },
  "language_info": {
   "codemirror_mode": {
    "name": "ipython",
    "version": 3
   },
   "file_extension": ".py",
   "mimetype": "text/x-python",
   "name": "python",
   "nbconvert_exporter": "python",
   "pygments_lexer": "ipython3",
   "version": "3.7.3"
  }
 },
 "nbformat": 4,
 "nbformat_minor": 2
}
